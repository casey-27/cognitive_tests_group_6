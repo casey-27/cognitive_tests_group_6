{
 "cells": [
  {
   "cell_type": "code",
   "execution_count": 1,
   "id": "1f82889d-aa6a-4a3d-bfa1-f554d08e0c90",
   "metadata": {
    "tags": []
   },
   "outputs": [],
   "source": [
    "#Necessary installations to run the test\n",
    "from IPython.display import display, HTML, Image, clear_output\n",
    "import pandas as pd\n",
    "import requests\n",
    "from bs4 import BeautifulSoup\n",
    "import json \n",
    "import time\n",
    "import random\n",
    "import ipywidgets as widgets\n",
    "from jupyter_ui_poll import ui_events"
   ]
  },
  {
   "cell_type": "code",
   "execution_count": 2,
   "id": "2caee98c-5fca-4efa-ace5-7a719fddad31",
   "metadata": {
    "tags": []
   },
   "outputs": [
    {
     "name": "stdout",
     "output_type": "stream",
     "text": [
      "DATA CONSENT INFORMATION:\n",
      "\n",
      "Please read:\n",
      "\n",
      "We wish to record your response data\n",
      "to an anonymised public data repository. \n",
      "Your data will be used for educational teaching purposes\n",
      "practising data analysis and visualisation.\n",
      "\n",
      "Please type   yes   in the box below if you consent to the upload.\n"
     ]
    },
    {
     "name": "stdin",
     "output_type": "stream",
     "text": [
      ">  yes\n"
     ]
    },
    {
     "name": "stdout",
     "output_type": "stream",
     "text": [
      "Thanks for your participation.\n",
      "Please contact a.fedorec@ucl.ac.uk\n",
      "If you have any questions or concerns\n",
      "regarding the stored results.\n"
     ]
    }
   ],
   "source": [
    "#Copied function for test code for data usage disclaimer/consent\n",
    "data_consent_info = \"\"\"DATA CONSENT INFORMATION:\n",
    "\n",
    "Please read:\n",
    "\n",
    "We wish to record your response data\n",
    "to an anonymised public data repository. \n",
    "Your data will be used for educational teaching purposes\n",
    "practising data analysis and visualisation.\n",
    "\n",
    "Please type   yes   in the box below if you consent to the upload.\"\"\"\n",
    "\n",
    "print(data_consent_info)\n",
    "result = input(\"> \") \n",
    "\n",
    "if result == \"yes\": \n",
    "    print(\"Thanks for your participation.\")\n",
    "    print(\"Please contact a.fedorec@ucl.ac.uk\")\n",
    "    print(\"If you have any questions or concerns\")\n",
    "    print(\"regarding the stored results.\")\n",
    "    \n",
    "else: \n",
    "    # end code execution by raising an exception\n",
    "    raise(Exception(\"User did not consent to continue test.\"))"
   ]
  },
  {
   "cell_type": "code",
   "execution_count": 3,
   "id": "7cd745d5-9bf7-4bd0-b9e7-11017d6061b6",
   "metadata": {
    "tags": []
   },
   "outputs": [],
   "source": [
    "#Copied function for sending responses to google form from the week 6 documents\n",
    "def send_to_google_form(data_dict, form_url):\n",
    "    ''' Helper function to upload information to a corresponding google form \n",
    "        You are not expected to follow the code within this function!\n",
    "    '''\n",
    "    form_id = form_url[34:90]\n",
    "    view_form_url = f'https://docs.google.com/forms/d/e/{form_id}/viewform'\n",
    "    post_form_url = f'https://docs.google.com/forms/d/e/{form_id}/formResponse'\n",
    "\n",
    "    page = requests.get(view_form_url)\n",
    "    content = BeautifulSoup(page.content, \"html.parser\").find('script', type='text/javascript')\n",
    "    content = content.text[27:-1]\n",
    "    result = json.loads(content)[1][1]\n",
    "    form_dict = {}\n",
    "    \n",
    "    loaded_all = True\n",
    "    for item in result:\n",
    "        if item[1] not in data_dict:\n",
    "            print(f\"Form item {item[1]} not found. Data not uploaded.\")\n",
    "            loaded_all = False\n",
    "            return False\n",
    "        form_dict[f'entry.{item[4][0][0]}'] = data_dict[item[1]]\n",
    "    \n",
    "    post_result = requests.post(post_form_url, data=form_dict)\n",
    "    return post_result.ok\n"
   ]
  },
  {
   "cell_type": "code",
   "execution_count": 4,
   "id": "42ddaaf7-0726-4341-bcd1-ef647d0ab7e4",
   "metadata": {
    "tags": []
   },
   "outputs": [],
   "source": [
    "#Copied function for making buttons from the week 6 documents\n",
    "event_info = {\n",
    "    'type': '',\n",
    "    'description': '',\n",
    "    'time': -1\n",
    "}\n",
    "\n",
    "def wait_for_event(timeout=-1, interval=0.001, max_rate=20, allow_interupt=True):    \n",
    "    start_wait = time.time()\n",
    "\n",
    "    # set event info to be empty\n",
    "    # as this is dict we can change entries\n",
    "    # directly without using\n",
    "    # the global keyword\n",
    "    event_info['type'] = \"\"\n",
    "    event_info['description'] = \"\"\n",
    "    event_info['time'] = -1\n",
    "\n",
    "    n_proc = int(max_rate*interval)+1\n",
    "    \n",
    "    with ui_events() as ui_poll:\n",
    "        keep_looping = True\n",
    "        while keep_looping==True:\n",
    "            # process UI events\n",
    "            ui_poll(n_proc)\n",
    "\n",
    "            # end loop if we have waited more than the timeout period\n",
    "            if (timeout != -1) and (time.time() > start_wait + timeout):\n",
    "                keep_looping = False\n",
    "                \n",
    "            # end loop if event has occured\n",
    "            if allow_interupt==True and event_info['description']!=\"\":\n",
    "                keep_looping = False\n",
    "                \n",
    "            # add pause before looping\n",
    "            # to check events again\n",
    "            time.sleep(interval)\n",
    "    \n",
    "    # return event description after wait ends\n",
    "    # will be set to empty string '' if no event occured\n",
    "    return event_info\n",
    "\n",
    "# this function lets buttons \n",
    "# register events when clicked\n",
    "def register_event(btn):\n",
    "    # display button description in output area\n",
    "    event_info['type'] = \"click\"\n",
    "    event_info['description'] = btn.description\n",
    "    event_info['time'] = time.time()\n",
    "    return\n",
    "    "
   ]
  },
  {
   "cell_type": "code",
   "execution_count": 5,
   "id": "5675d111-8c7c-4673-b76d-67d10f998f3b",
   "metadata": {
    "tags": []
   },
   "outputs": [],
   "source": [
    "# Image production using Image installation\n",
    "test1 = Image(\"test_10 VS 9.png\", width=300)\n",
    "test2 = Image(\"test_12 VS 16.png\", width=300)\n",
    "test3 = Image(\"test_12 VS 9.png\", width=300)\n",
    "test4 = Image(\"test_14 VS 12.png\", width=300)\n",
    "test5 = Image(\"test_15 VS 20.png\", width=300)\n",
    "test6 = Image(\"test_18 VS 16.png\", width=300)\n",
    "test7 = Image(\"test_18 VS 21.png\", width=300)\n",
    "test8 = Image(\"test_20 VS 18.png\", width=300)\n",
    "test9 = Image(\"test_10 VS 9 (2).png\", width=300)\n",
    "test10 = Image(\"test_12 VS 16 (2).png\", width=300)\n",
    "test11 = Image(\"test_12 VS 9 (2).png\", width=300)\n",
    "test12 = Image(\"test_14 VS 12 (2).png\", width=300)\n",
    "test13 = Image(\"test_15 VS 20 (2).png\", width=300)\n",
    "test14 = Image(\"test_18 VS 16 (2).png\", width=300)\n",
    "test15 = Image(\"test_18 VS 21 (2).png\", width=300)\n",
    "test16 = Image(\"test_20 VS 18 (2).png\", width=300)\n",
    "test17 = Image(\"test_10 VS 9 (3).png\", width=300)\n",
    "test18 = Image(\"test_12 VS 16 (3).png\", width=300)\n",
    "test19 = Image(\"test_12 VS 9 (3).png\", width=300)\n",
    "test20 = Image(\"test_14 VS 12 (3).png\", width=300)\n",
    "test21 = Image(\"test_15 VS 20 (3).png\", width=300)\n",
    "test22 = Image(\"test_18 VS 16 (3).png\", width=300)\n",
    "test23 = Image(\"test_18 VS 21 (3).png\", width=300)\n",
    "test24 = Image(\"test_20 VS 18 (3).png\", width=300)\n",
    "\n",
    "\n",
    "test_blank = Image(\"Blank.jpg\", width=300) "
   ]
  },
  {
   "cell_type": "code",
   "execution_count": 6,
   "id": "ba39e46e-ad50-4bf1-826a-76de7a859f8a",
   "metadata": {
    "tags": []
   },
   "outputs": [],
   "source": [
    "# Define the correct answers for each task\n",
    "answers = dict( \n",
    "    task1 = [test1, 'Left'],\n",
    "    task2 =[test2, 'Right'],\n",
    "    task3 =[test3,'Left'],\n",
    "    task4 =[test4, 'Left'],\n",
    "    task5 =[test5, 'Right'],\n",
    "    task6 =[test6, 'Left'],\n",
    "    task7 =[test7, 'Right'],\n",
    "    task8 =[test8, 'Left'],\n",
    "    task9 =[test9, 'Left'],\n",
    "    task10 =[test10,'Right'],\n",
    "    task11 =[test11, 'Left'],\n",
    "    task12 =[test12, 'Left'],\n",
    "    task13 =[test13, 'Right'],\n",
    "    task14 =[test14, 'Left'],\n",
    "    task15 =[test15,'Right'],\n",
    "    task16 =[test16, 'Left'],\n",
    "    task17 =[test17, 'Left'],\n",
    "    task18 =[test18, 'Right'],\n",
    "    task19 =[test19, 'Left'],\n",
    "    task20 =[test20, 'Left'],\n",
    "    task21 =[test21,'Right'],\n",
    "    task22 =[test22, 'Left'],\n",
    "    task23 =[test23, 'Right'],\n",
    "    task24 =[test24, 'Left'])\n",
    "    \n",
    "#Create a dataframe for the images and correct answers\n",
    "df_ans = pd.DataFrame(data=answers)\n",
    "df_ans = df_ans.fillna(' ').T"
   ]
  },
  {
   "cell_type": "code",
   "execution_count": 11,
   "id": "3607dbcd-e49a-426f-bf11-ac49b53b9667",
   "metadata": {
    "tags": []
   },
   "outputs": [
    {
     "data": {
      "text/html": [
       "<span style =\"font-size: 20px\"> Thanks for your participation. <br> Please contact a.fedorec@ucl.ac.uk <br> If you have any questions or concerns <br> regarding the stored results.</span>"
      ],
      "text/plain": [
       "<IPython.core.display.HTML object>"
      ]
     },
     "metadata": {},
     "output_type": "display_data"
    },
    {
     "data": {
      "text/html": [
       "<span style =\"font-size: 20px\">Time taken to complete the test: 229.86 seconds. <br> Number of correct answers: 0.</span>"
      ],
      "text/plain": [
       "<IPython.core.display.HTML object>"
      ]
     },
     "metadata": {},
     "output_type": "display_data"
    }
   ],
   "source": [
    "def dot_comparison_task(df_ans): \n",
    "    \n",
    "    #The function runs the ANS test, which measures the ability to quickly detect which image has more dots/objects.\n",
    "    #The function displays an image with two sets of dots for 0.75s followed by a blank image and asks the user to click on the button that represents the side with more dots.\n",
    "    #The function records number of correct answers (num_correct) and time taken to complete the test.\n",
    "    #Then the function uploads the results to the Google Form if it has the user's agreement.\n",
    "    #The function returns number of correct answers and time taken as an HTML output.\n",
    "    \n",
    "    #Style for HTML text\n",
    "    style = f'font-size: 20px'\n",
    "    random.seed(1)\n",
    "    #Create dictionary for Google Forms\n",
    "    ans_data_dict = {'ID': [],\n",
    "                     'Gender': [],\n",
    "                     'Age': [],\n",
    "                     'Substances': [],\n",
    "                     'Correct': [],\n",
    "                     'Correct proportion': [],\n",
    "                     'Time': []}\n",
    "    num_correct = 0 \n",
    "    display(HTML(f'<span style =\"{style}\">Weclcome to the ANS test!</span>'))\n",
    "    time.sleep(3)\n",
    "    \n",
    "    #The following 4 questions ask user for demographic information\n",
    "    id_instructions = HTML(f\"<span style ='{style}'>Enter your anonymised ID <br> To generate an anonymous 4-letter unique user identifier please enter: <br> - two letters based on the initials (first and last name) of a childhood friend <br> - two letters based on the initials (first and last name) of a favourite actor / actress <br> e.g. if your friend was called Charlie Brown and film star was Tom Cruise <br> then your unique identifier would be CBTC</span>\")\n",
    "    display(id_instructions)\n",
    "    display(HTML(f'<span style =\"{style}\">Please use the same ID for all Group 6 cognitive tests. <br> Please type in your ID: </span>'))\n",
    "    ans1 = input()\n",
    "    display(HTML(f'<span style =\"{style}\">Please type in your gender:</span>'))\n",
    "    ans2 = input()\n",
    "    display(HTML(f'<span style =\"{style}\">Please type in your age:</span>'))\n",
    "    ans3 = input()\n",
    "    display(HTML(f'<span style =\"{style}\">Have you consumed any substances (Eg. alcohol or drugs) in the last 12 hours that might affect your cognitive abilities?</span>'))\n",
    "    ans4 = input() \n",
    "    display(HTML(f'<span style = \"{style}\">In this test you will need to choose the side with more dots (left or rigth). <br> You will have 0.75s to look at the image and 3s to answer. <br> There will be 8 questions. <br> Click the buttons to answer the question. </span>'))\n",
    "    start_time = time.time()\n",
    "    for i in range(24):  # Perform twenty four blocks\n",
    "        display(df_ans[0][i])\n",
    "        time.sleep(0.75)\n",
    "        clear_output(wait=True) \n",
    "        display(test_blank)\n",
    "        time.sleep(0.75)\n",
    "        clear_output(wait=True)\n",
    "        response_start_time = time.time()\n",
    "            # Ask for user input\n",
    "        display(HTML(f'<span style =\"{style}\">Which side has more dots? (left/right):</span>'))\n",
    "        btn1 = widgets.Button(description='Left')\n",
    "        btn2 = widgets.Button(description='Right')\n",
    "        btn1.on_click(register_event) \n",
    "        btn2.on_click(register_event)  \n",
    "        panel = widgets.HBox([btn1, btn2])\n",
    "        display(panel)\n",
    "        response = wait_for_event(timeout=3)\n",
    "        clear_output()\n",
    "        response_time = time.time() - response_start_time\n",
    "\n",
    "            # Check if the response is valid and within the time limit\n",
    "        if response_time <= 3.0:\n",
    "                # Check if the user's answer is correct\n",
    "            if response['description'] == df_ans[1][i]:\n",
    "                num_correct +=1\n",
    "                display(HTML(f'<span style =\"{style}\">Correct!</span>'))\n",
    "                time.sleep(2)\n",
    "                clear_output(wait = False)\n",
    "            else:\n",
    "                display(HTML(f'<span style =\"{style}\">Incorrect!</span>'))\n",
    "                time.sleep(2)\n",
    "                clear_output(wait = False)\n",
    "        else:\n",
    "            display(HTML(f'<span style =\"{style}\">No response detected or time exceeded.</span>'))\n",
    "            time.sleep(2)\n",
    "            clear_output(wait = False)\n",
    "           \n",
    "        time.sleep(3)\n",
    "        clear_output(wait=True) \n",
    "    end_time = time.time() \n",
    "    elapsed_time = round(end_time - start_time, 2) #Calculate total time taken\n",
    "    html_out = HTML(f'<span style =\"{style}\">Time taken to complete the test: {elapsed_time} seconds. <br> Number of correct answers: {num_correct}.</span>')\n",
    "    #Ask user for permission to upload their results\n",
    "    display(HTML(f'<span style =\"{style}\">Please read: <br>  <br> We wish to record your response data <br> to an anonymised public data repository. <br> Your data will be used for educational teaching purposes <br> practising data analysis and visualisation. <br>  <br> Please click   yes   in the box below if you consent to the upload.</span>'))\n",
    "    btn1 = widgets.Button(description=\"Yes\")\n",
    "    btn2 = widgets.Button(description=\"No\")\n",
    "    btn1.on_click(register_event) \n",
    "    btn2.on_click(register_event)\n",
    "    panel = widgets.HBox([btn1, btn2])\n",
    "    display(panel)\n",
    "    consent_result = wait_for_event(timeout=10)\n",
    "    clear_output()\n",
    "    if consent_result['description']==\"Yes\":\n",
    "        ans_data_dict[\"ID\"].append(ans1)\n",
    "        ans_data_dict[\"Gender\"].append(ans2)\n",
    "        ans_data_dict[\"Age\"].append(ans3)\n",
    "        ans_data_dict[\"Substances\"].append(ans4)\n",
    "        ans_data_dict[\"Time\"].append(str(elapsed_time))\n",
    "        ans_data_dict[\"Correct\"].append(str(num_correct))\n",
    "        ans_data_dict[\"Correct proportion\"].append(str(round(num_correct/24, 2)))\n",
    "        form_url = \"https://docs.google.com/forms/d/e/1FAIpQLSdXvUjero2yh_CFCymqVlydVmTAKmLFHJQyy4MXZ4wbEl6FEw/viewform?usp=sf_link\"\n",
    "        display(HTML(f'<span style =\"{style}\"> Thanks for your participation. <br> Please contact a.fedorec@ucl.ac.uk <br> If you have any questions or concerns <br> regarding the stored results.</span>'))\n",
    "        #send_to_google_form(ans_data_dict, form_url)\n",
    "    else:\n",
    "        display(HTML(f'<span style =\"{style}\"> No problem we hope you enjoyed the test.</span>'))\n",
    "    return display(html_out) #Showing the user their result\n",
    "\n",
    "dot_comparison_task(df_ans)\n",
    "   \n",
    "    "
   ]
  },
  {
   "cell_type": "code",
   "execution_count": null,
   "id": "dec4cb7e-d68a-4d94-908d-4d5e9c172367",
   "metadata": {},
   "outputs": [],
   "source": []
  }
 ],
 "metadata": {
  "kernelspec": {
   "display_name": "Python 3 (ipykernel)",
   "language": "python",
   "name": "python3"
  },
  "language_info": {
   "codemirror_mode": {
    "name": "ipython",
    "version": 3
   },
   "file_extension": ".py",
   "mimetype": "text/x-python",
   "name": "python",
   "nbconvert_exporter": "python",
   "pygments_lexer": "ipython3",
   "version": "3.11.5"
  }
 },
 "nbformat": 4,
 "nbformat_minor": 5
}
