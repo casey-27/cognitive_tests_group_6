{
 "cells": [
  {
   "cell_type": "code",
   "execution_count": null,
   "id": "04416c76-ccb7-4325-ac95-cf332c452a0a",
   "metadata": {
    "tags": []
   },
   "outputs": [
    {
     "data": {
      "text/html": [
       "<span style = \"font-size: 20px\">In this test, you will need to choose the side with more dots (left or right). <br> You will have 0.75s to look at the image and 3s to answer. <br> There will be 64 questions. <br> Click the buttons to answer the question. </span>"
      ],
      "text/plain": [
       "<IPython.core.display.HTML object>"
      ]
     },
     "metadata": {},
     "output_type": "display_data"
    }
   ],
   "source": [
    "%run ANS_test_v2.py"
   ]
  },
  {
   "cell_type": "code",
   "execution_count": null,
   "id": "a9c51cdc-d97e-4796-b416-2fdfa66ba5ad",
   "metadata": {},
   "outputs": [],
   "source": []
  }
 ],
 "metadata": {
  "kernelspec": {
   "display_name": "Python 3 (ipykernel)",
   "language": "python",
   "name": "python3"
  },
  "language_info": {
   "codemirror_mode": {
    "name": "ipython",
    "version": 3
   },
   "file_extension": ".py",
   "mimetype": "text/x-python",
   "name": "python",
   "nbconvert_exporter": "python",
   "pygments_lexer": "ipython3",
   "version": "3.11.5"
  }
 },
 "nbformat": 4,
 "nbformat_minor": 5
}
