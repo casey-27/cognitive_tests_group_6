{
 "cells": [
  {
   "cell_type": "markdown",
   "id": "5b4b34aa-a309-4cda-b879-604a4697767e",
   "metadata": {},
   "source": [
    "# Memory Test\n",
    "Click play on the cell below to run the test "
   ]
  },
  {
   "cell_type": "code",
   "execution_count": null,
   "id": "1bd340b3-de94-4fdc-b1d0-f7f435292196",
   "metadata": {},
   "outputs": [],
   "source": [
    "%run maths_test_v2.py"
   ]
  }
 ],
 "metadata": {
  "kernelspec": {
   "display_name": "Python 3 (ipykernel)",
   "language": "python",
   "name": "python3"
  },
  "language_info": {
   "codemirror_mode": {
    "name": "ipython",
    "version": 3
   },
   "file_extension": ".py",
   "mimetype": "text/x-python",
   "name": "python",
   "nbconvert_exporter": "python",
   "pygments_lexer": "ipython3",
   "version": "3.12.2"
  }
 },
 "nbformat": 4,
 "nbformat_minor": 5
}
