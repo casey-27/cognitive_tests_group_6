{
 "cells": [
  {
   "cell_type": "markdown",
   "id": "2e0ec0d9-922b-48ec-8862-5e5a0181791c",
   "metadata": {},
   "source": [
    "# Memory Test\n",
    "Click play on the cell below to run the test "
   ]
  },
  {
   "cell_type": "code",
   "execution_count": 6,
   "id": "f71d841b-610b-4501-9f6c-a03611df4c28",
   "metadata": {},
   "outputs": [
    {
     "data": {
      "text/html": [
       "<h3>Welcome to the Memory Test!</h3>"
      ],
      "text/plain": [
       "<IPython.core.display.HTML object>"
      ]
     },
     "metadata": {},
     "output_type": "display_data"
    },
    {
     "data": {
      "text/html": [
       "<h4>DATA CONSENT INFORMATION: <br>\n",
       "\n",
       "    Please read: <br>\n",
       "\n",
       "    We wish to record your response data to an anonymised public data repository. <br>\n",
       "    Your data will be used for educational teaching purposes, practising data analysis and visualisation. <br>\n",
       "    Please select 'yes' in the box below if you consent to the upload.</h4>"
      ],
      "text/plain": [
       "<IPython.core.display.HTML object>"
      ]
     },
     "metadata": {},
     "output_type": "display_data"
    },
    {
     "data": {
      "application/vnd.jupyter.widget-view+json": {
       "model_id": "8ec8a94ad6f246f2a5f96cdae9e3ef11",
       "version_major": 2,
       "version_minor": 0
      },
      "text/plain": [
       "HBox(children=(Button(description='Yes', style=ButtonStyle()), Button(description='No', style=ButtonStyle())))"
      ]
     },
     "metadata": {},
     "output_type": "display_data"
    },
    {
     "ename": "KeyboardInterrupt",
     "evalue": "",
     "output_type": "error",
     "traceback": [
      "\u001b[1;31m---------------------------------------------------------------------------\u001b[0m",
      "\u001b[1;31mKeyboardInterrupt\u001b[0m                         Traceback (most recent call last)",
      "File \u001b[1;32m~\\OneDrive\\Desktop\\python_work\\BIOS0030 Cognitive Tests Report\\memory_test_v2.py:537\u001b[0m\n\u001b[0;32m    533\u001b[0m         display(HTML(\u001b[38;5;124m\"\u001b[39m\u001b[38;5;124m<h4>No problem! Feel free to give the test a try if you change your mind.</h4>\u001b[39m\u001b[38;5;124m\"\u001b[39m))\n\u001b[0;32m    535\u001b[0m     \u001b[38;5;28;01mreturn\u001b[39;00m \n\u001b[1;32m--> 537\u001b[0m \u001b[43mmemory_test\u001b[49m\u001b[43m(\u001b[49m\u001b[43m)\u001b[49m\n",
      "File \u001b[1;32m~\\OneDrive\\Desktop\\python_work\\BIOS0030 Cognitive Tests Report\\memory_test_v2.py:505\u001b[0m, in \u001b[0;36mmemory_test\u001b[1;34m()\u001b[0m\n\u001b[0;32m    502\u001b[0m panel \u001b[38;5;241m=\u001b[39m widgets\u001b[38;5;241m.\u001b[39mHBox([btn1, btn2])\n\u001b[0;32m    503\u001b[0m display(panel)\n\u001b[1;32m--> 505\u001b[0m consent_result \u001b[38;5;241m=\u001b[39m \u001b[43mwait_for_event\u001b[49m\u001b[43m(\u001b[49m\u001b[43m)\u001b[49m\n\u001b[0;32m    506\u001b[0m clear_output(wait\u001b[38;5;241m=\u001b[39m\u001b[38;5;28;01mFalse\u001b[39;00m)\n\u001b[0;32m    508\u001b[0m \u001b[38;5;66;03m# test runs if consent is given \u001b[39;00m\n",
      "File \u001b[1;32m~\\OneDrive\\Desktop\\python_work\\BIOS0030 Cognitive Tests Report\\memory_test_v2.py:104\u001b[0m, in \u001b[0;36mwait_for_event\u001b[1;34m(timeout, interval, max_rate, allow_interupt)\u001b[0m\n\u001b[0;32m    100\u001b[0m             keep_looping \u001b[38;5;241m=\u001b[39m \u001b[38;5;28;01mFalse\u001b[39;00m\n\u001b[0;32m    102\u001b[0m         \u001b[38;5;66;03m# add pause before looping\u001b[39;00m\n\u001b[0;32m    103\u001b[0m         \u001b[38;5;66;03m# to check events again\u001b[39;00m\n\u001b[1;32m--> 104\u001b[0m         \u001b[43mtime\u001b[49m\u001b[38;5;241;43m.\u001b[39;49m\u001b[43msleep\u001b[49m\u001b[43m(\u001b[49m\u001b[43minterval\u001b[49m\u001b[43m)\u001b[49m\n\u001b[0;32m    106\u001b[0m \u001b[38;5;66;03m# return event description after wait ends\u001b[39;00m\n\u001b[0;32m    107\u001b[0m \u001b[38;5;66;03m# will be set to empty string '' if no event occured\u001b[39;00m\n\u001b[0;32m    108\u001b[0m \u001b[38;5;28;01mreturn\u001b[39;00m event_info\n",
      "\u001b[1;31mKeyboardInterrupt\u001b[0m: "
     ]
    }
   ],
   "source": [
    "%run memory_test_v2.py"
   ]
  }
 ],
 "metadata": {
  "kernelspec": {
   "display_name": "Python 3 (ipykernel)",
   "language": "python",
   "name": "python3"
  },
  "language_info": {
   "codemirror_mode": {
    "name": "ipython",
    "version": 3
   },
   "file_extension": ".py",
   "mimetype": "text/x-python",
   "name": "python",
   "nbconvert_exporter": "python",
   "pygments_lexer": "ipython3",
   "version": "3.8.18"
  }
 },
 "nbformat": 4,
 "nbformat_minor": 5
}
